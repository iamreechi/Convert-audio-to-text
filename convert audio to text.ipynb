{
  "nbformat": 4,
  "nbformat_minor": 0,
  "metadata": {
    "colab": {
      "name": "Welcome To Colaboratory",
      "provenance": [],
      "collapsed_sections": []
    },
    "kernelspec": {
      "display_name": "Python 3",
      "name": "python3"
    }
  },
  "cells": [
    {
      "cell_type": "code",
      "metadata": {
        "id": "bxXs2aj0MNsG",
        "colab_type": "code",
        "colab": {
          "base_uri": "https://localhost:8080/",
          "height": 125
        },
        "outputId": "b3e3bc9b-12d8-4c51-817c-ae34125b5a5d"
      },
      "source": [
        "from google.colab import drive\n",
        "drive.mount('/content/drive')"
      ],
      "execution_count": 1,
      "outputs": [
        {
          "output_type": "stream",
          "text": [
            "Go to this URL in a browser: https://accounts.google.com/o/oauth2/auth?client_id=947318989803-6bn6qk8qdgf4n4g3pfee6491hc0brc4i.apps.googleusercontent.com&redirect_uri=urn%3aietf%3awg%3aoauth%3a2.0%3aoob&scope=email%20https%3a%2f%2fwww.googleapis.com%2fauth%2fdocs.test%20https%3a%2f%2fwww.googleapis.com%2fauth%2fdrive%20https%3a%2f%2fwww.googleapis.com%2fauth%2fdrive.photos.readonly%20https%3a%2f%2fwww.googleapis.com%2fauth%2fpeopleapi.readonly&response_type=code\n",
            "\n",
            "Enter your authorization code:\n",
            "··········\n",
            "Mounted at /content/drive\n"
          ],
          "name": "stdout"
        }
      ]
    },
    {
      "cell_type": "code",
      "metadata": {
        "id": "eFmJfSKIMQTB",
        "colab_type": "code",
        "colab": {
          "base_uri": "https://localhost:8080/",
          "height": 52
        },
        "outputId": "44c22dd3-8327-4754-cbc4-b2cc478b99a7"
      },
      "source": [
        "!pip3 install SpeechRecognition pydub"
      ],
      "execution_count": 10,
      "outputs": [
        {
          "output_type": "stream",
          "text": [
            "Requirement already satisfied: SpeechRecognition in /usr/local/lib/python3.6/dist-packages (3.8.1)\n",
            "Requirement already satisfied: pydub in /usr/local/lib/python3.6/dist-packages (0.24.1)\n"
          ],
          "name": "stdout"
        }
      ]
    },
    {
      "cell_type": "code",
      "metadata": {
        "id": "RM18b4pqPQKy",
        "colab_type": "code",
        "colab": {
          "base_uri": "https://localhost:8080/",
          "height": 54
        },
        "outputId": "6d15e3cd-1592-48fc-db3f-c37acdd61272"
      },
      "source": [
        " import speech_recognition as sr\n",
        "from os import path\n",
        "from pydub import AudioSegment\n",
        "\n",
        "# convert mp3 file to wav                                                       \n",
        "sound = AudioSegment.from_mp3(\"/content/drive/My Drive/podcasts_google_com-.mp3\")\n",
        "sound.export(\"transcript.wav\", format=\"wav\")\n",
        "\n",
        "\n",
        "# transcribe audio file                                                         \n",
        "AUDIO_FILE = \"transcript.wav\"\n",
        "\n",
        "# use the audio file as the audio source                                        \n",
        "r = sr.Recognizer()\n",
        "with sr.AudioFile(AUDIO_FILE) as source:\n",
        "        audio = r.record(source)  # read the entire audio file                  \n",
        "\n",
        "        print(\"Transcription: \" + r.recognize_google(audio))"
      ],
      "execution_count": 27,
      "outputs": [
        {
          "output_type": "stream",
          "text": [
            "Transcription: equals podcasts pasta and sauce what did it take to grow namely from $200,000 to 60 and plus ARR Michael man breaks down to learnings and advice he now gives to folks on their revenue Journey 23 hours ago 23 minutes Play episode episode outline 2440 how Michael went from 200k to 6mmar are at namely 326 the most challenging aspect of Michael's first 6 months at namely 455 the most important actions to take in developing a pricing strategy 750 for the moment when name lease Revenue motion and ICP fell into place 930 what Michael Learned From the impressive board he worked with had namely 1124 preconceptions Michael had and what he learned after experience 1514 what got Michael excited about working with auricula 1658 Michaels professional goals for the next 12 months 1900 hours how Michael unplugs and recharges Michael's inspiration Scott Shearer Mitchell. Carmen Marc Roberge Carl eschenbach connect with Michael LinkedIn Twitter\n"
          ],
          "name": "stdout"
        }
      ]
    },
    {
      "cell_type": "code",
      "metadata": {
        "id": "3k3panPrMmp3",
        "colab_type": "code",
        "colab": {}
      },
      "source": [
        "import os \n",
        "from pydub import AudioSegment\n",
        "from pydub.silence import split_on_silence\n",
        "\n",
        "# a function that splits the audio file into chunks\n",
        "# and applies speech recognition\n",
        "def get_large_audio_transcription(path):\n",
        "    \"\"\"\n",
        "    Splitting the large audio file into chunks\n",
        "    and apply speech recognition on each of these chunks\n",
        "    \"\"\"\n",
        "    # open the audio file using pydub\n",
        "    sound = AudioSegment.from_wav(path)  \n",
        "    # split audio sound where silence is 700 miliseconds or more and get chunks\n",
        "    chunks = split_on_silence(sound,\n",
        "        # experiment with this value for your target audio file\n",
        "        min_silence_len = 500,\n",
        "        # adjust this per requirement\n",
        "        silence_thresh = sound.dBFS-14,\n",
        "        # keep the silence for 1 second, adjustable as well\n",
        "        keep_silence=500,\n",
        "    )\n",
        "    folder_name = \"audio-chunks\"\n",
        "    # create a directory to store the audio chunks\n",
        "    if not os.path.isdir(folder_name):\n",
        "        os.mkdir(folder_name)\n",
        "    whole_text = \"\"\n",
        "    # process each chunk \n",
        "    for i, audio_chunk in enumerate(chunks, start=1):\n",
        "        # export audio chunk and save it in\n",
        "        # the `folder_name` directory.\n",
        "        chunk_filename = os.path.join(folder_name, f\"chunk{i}.wav\")\n",
        "        audio_chunk.export(chunk_filename, format=\"wav\")\n",
        "        # recognize the chunk\n",
        "        with sr.AudioFile(chunk_filename) as source:\n",
        "            audio_listened = r.record(source)\n",
        "            # try converting it to text\n",
        "            try:\n",
        "              text = r.recognize_google(audio_listened)\n",
        "            except sr.UnknownValueError as e:\n",
        "                print(\"Error:\", str(e))\n",
        "            else:\n",
        "                text = f\"{text.capitalize()}. \"\n",
        "                print(chunk_filename, \":\", text)\n",
        "                whole_text += text\n",
        "    # return the text for all chunks detected\n",
        "    return whole_text"
      ],
      "execution_count": 30,
      "outputs": []
    },
    {
      "cell_type": "code",
      "metadata": {
        "id": "ImZz1IhwkEKz",
        "colab_type": "code",
        "colab": {
          "base_uri": "https://localhost:8080/",
          "height": 142
        },
        "outputId": "8e86065b-c091-4e6c-e32b-14aa06a258ca"
      },
      "source": [
        "with open(\"Output.txt\", \"w\") as text_file:\n",
        "    text_file.write(get_large_audio_transcription(path))"
      ],
      "execution_count": 35,
      "outputs": [
        {
          "output_type": "stream",
          "text": [
            "audio-chunks/chunk1.wav : Equals podcasts pasta and sauce what did it take to grow namely from $200,000 to 60 and plus arr. \n",
            "audio-chunks/chunk2.wav : Michael man breaks down to learnings and advice he now gives to folks on their revenue journey. \n",
            "audio-chunks/chunk3.wav : 23 hours ago. \n",
            "audio-chunks/chunk4.wav : 23 minutes play episode. \n",
            "audio-chunks/chunk5.wav : Episode outline 2440 how michael went from 200k to 6mmar are at namely 326 the most challenging aspect of michael's first 6 months at namely 455 the most important actions to take in developing a pricing strategy 750 for the moment when nameless revenue motion and icp fell into place 9:30 what michael learned from the impressive board he worked with had namely 1124 preconceptions michael had and what he learned after experience. \n",
            "audio-chunks/chunk6.wav : 1514 what got michael excited about working with auricula 1658 michaels professional goals for the next 12 months 1900 hours how michael unplugs and recharges michaels inspiration scotch here mitchell doberman marc roberge carl eschenbach connect with michael linkedin twitter. \n"
          ],
          "name": "stdout"
        }
      ]
    },
    {
      "cell_type": "code",
      "metadata": {
        "id": "xxWRmV5rxIfj",
        "colab_type": "code",
        "colab": {
          "base_uri": "https://localhost:8080/",
          "height": 17
        },
        "outputId": "b4f1ceed-a93f-4005-9f53-731085203cf1"
      },
      "source": [
        "from google.colab import files\n",
        "files.download('Output.txt')"
      ],
      "execution_count": 36,
      "outputs": [
        {
          "output_type": "display_data",
          "data": {
            "application/javascript": [
              "\n",
              "    async function download(id, filename, size) {\n",
              "      if (!google.colab.kernel.accessAllowed) {\n",
              "        return;\n",
              "      }\n",
              "      const div = document.createElement('div');\n",
              "      const label = document.createElement('label');\n",
              "      label.textContent = `Downloading \"${filename}\": `;\n",
              "      div.appendChild(label);\n",
              "      const progress = document.createElement('progress');\n",
              "      progress.max = size;\n",
              "      div.appendChild(progress);\n",
              "      document.body.appendChild(div);\n",
              "\n",
              "      const buffers = [];\n",
              "      let downloaded = 0;\n",
              "\n",
              "      const channel = await google.colab.kernel.comms.open(id);\n",
              "      // Send a message to notify the kernel that we're ready.\n",
              "      channel.send({})\n",
              "\n",
              "      for await (const message of channel.messages) {\n",
              "        // Send a message to notify the kernel that we're ready.\n",
              "        channel.send({})\n",
              "        if (message.buffers) {\n",
              "          for (const buffer of message.buffers) {\n",
              "            buffers.push(buffer);\n",
              "            downloaded += buffer.byteLength;\n",
              "            progress.value = downloaded;\n",
              "          }\n",
              "        }\n",
              "      }\n",
              "      const blob = new Blob(buffers, {type: 'application/binary'});\n",
              "      const a = document.createElement('a');\n",
              "      a.href = window.URL.createObjectURL(blob);\n",
              "      a.download = filename;\n",
              "      div.appendChild(a);\n",
              "      a.click();\n",
              "      div.remove();\n",
              "    }\n",
              "  "
            ],
            "text/plain": [
              "<IPython.core.display.Javascript object>"
            ]
          },
          "metadata": {
            "tags": []
          }
        },
        {
          "output_type": "display_data",
          "data": {
            "application/javascript": [
              "download(\"download_ba55e766-1c0d-4d5b-a482-33c1fe4a1514\", \"Output.txt\", 944)"
            ],
            "text/plain": [
              "<IPython.core.display.Javascript object>"
            ]
          },
          "metadata": {
            "tags": []
          }
        }
      ]
    },
    {
      "cell_type": "code",
      "metadata": {
        "id": "9LmX8DD9Zpcu",
        "colab_type": "code",
        "colab": {}
      },
      "source": [
        ""
      ],
      "execution_count": null,
      "outputs": []
    }
  ]
}